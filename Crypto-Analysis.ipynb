{
 "cells": [
  {
   "cell_type": "code",
   "execution_count": null,
   "id": "325d1db6",
   "metadata": {},
   "outputs": [],
   "source": [
    "import pandas as pd\n",
    "from sklearn.preprocessing import StandardScaler\n",
    "from sklearn.decomposition import PCA\n",
    "import matplotlib.pyplot as plt\n",
    "from sklearn.cluster import KMeans"
   ]
  },
  {
   "cell_type": "code",
   "execution_count": null,
   "id": "f600f970",
   "metadata": {},
   "outputs": [],
   "source": [
    "crypto_df = pd.read_csv('crypto_data.csv')\n",
    "crypto_df.head()"
   ]
  },
  {
   "cell_type": "code",
   "execution_count": null,
   "id": "ffa747cb",
   "metadata": {},
   "outputs": [],
   "source": [
    "# Discard all cryptocurrencies that are not being traded.\n",
    "# In other words, filter for currencies that are currently being traded.\n",
    "crypto_df_filtered = crypto_df.loc[crypto_df['IsTrading'] == True]\n",
    "crypto_df_filtered.head()"
   ]
  },
  {
   "cell_type": "code",
   "execution_count": null,
   "id": "ed11ce56",
   "metadata": {},
   "outputs": [],
   "source": [
    "# Once you have done this, drop the IsTrading column from the dataframe.\n",
    "new_crypto_df = crypto_df_filtered.drop([\"IsTrading\"], axis='columns')\n",
    "new_crypto_df.head()"
   ]
  },
  {
   "cell_type": "code",
   "execution_count": null,
   "id": "59d43899",
   "metadata": {},
   "outputs": [],
   "source": [
    "# Remove all rows that have at least one null value\n",
    "new_crypto_df.dropna()\n",
    "new_crypto_df.head()"
   ]
  },
  {
   "cell_type": "code",
   "execution_count": null,
   "id": "062d82e1",
   "metadata": {},
   "outputs": [],
   "source": [
    "# Filter for cryptocurrencies that have been mined. \n",
    "# That is, the total coins mined should be greater than zero.\n",
    "crypto_df_filtered2 = new_crypto_df.loc[new_crypto_df['TotalCoinsMined'] > 0]\n",
    "crypto_df_filtered2.head()"
   ]
  },
  {
   "cell_type": "code",
   "execution_count": null,
   "id": "dc1b4d13",
   "metadata": {},
   "outputs": [],
   "source": [
    "# Delete the CoinName from the original dataframe.\n",
    "new_crypto_df = crypto_df_filtered2.drop([\"CoinName\"], axis='columns')\n",
    "new_crypto_df.head()"
   ]
  },
  {
   "cell_type": "code",
   "execution_count": null,
   "id": "4e64962b",
   "metadata": {},
   "outputs": [],
   "source": [
    "# Your next step in data preparation is to convert the remaining features with\n",
    "# text values, Algorithm and ProofType, into numerical data. \n",
    "# To accomplish this task, use Pandas to create dummy variables. ???\n",
    "new_crypto_df1 = pd.get_dummies(new_crypto_df)\n",
    "new_crypto_df1.head()"
   ]
  },
  {
   "cell_type": "code",
   "execution_count": null,
   "id": "76e825fa",
   "metadata": {},
   "outputs": [],
   "source": [
    "# Standardize your dataset so that columns that contain larger values do not unduly influence the outcome.\n",
    "scaled_crypto_df = StandardScaler().fit_transform(new_crypto_df1)\n",
    "print(scaled_crypto_df[0:5])"
   ]
  },
  {
   "cell_type": "code",
   "execution_count": null,
   "id": "2c877f21",
   "metadata": {},
   "outputs": [],
   "source": [
    "# Perform dimensionality reduction with PCA.\n",
    "# Rather than specify the number of principal components when you instantiate the PCA model,\n",
    "# it is possible to state the desired explained variance.\n",
    "# For example, say that a dataset has 100 features.\n",
    "# Using PCA(n_components=0.99) creates a model that will preserve approximately 99% of the explained variance,\n",
    "# whether that means reducing the dataset to 80 principal components or 3.\n",
    "# For this project, preserve 90% of the explained variance in dimensionality reduction.\n",
    "\n",
    "pca = PCA(n_components=.9)\n",
    "crypto_pca = pca.fit_transform(scaled_crypto_df)\n",
    "print(crypto_pca)"
   ]
  },
  {
   "cell_type": "code",
   "execution_count": null,
   "id": "bf03052e",
   "metadata": {},
   "outputs": [],
   "source": [
    "# Create an elbow plot to identify the best number of clusters.\n",
    "# Use a for-loop to determine the inertia for each k between 1 through 10.\n",
    "# Determine, if possible, where the elbow of the plot is, and at which value of k it appears.\n",
    "\n",
    "# Finding the best value for k\n",
    "inertia = []\n",
    "k = list(range(1, 11))\n",
    "\n",
    "# Calculate the inertia for the range of k values\n",
    "for i in k:\n",
    "    km = KMeans(n_clusters=i, random_state=0)\n",
    "    km.fit(scaled_crypto_df)\n",
    "    inertia.append(km.inertia_)\n",
    "\n",
    "# Creating the Elbow Curve\n",
    "elbow_data = {\"k\": k, \"inertia\": inertia}\n",
    "df_elbow = pd.DataFrame(elbow_data)\n",
    "\n",
    "plt.plot(df_elbow['k'], df_elbow['inertia'])\n",
    "plt.xticks(list(range(11)))\n",
    "plt.title('Elbow Curve')\n",
    "plt.xlabel('Number of clusters')\n",
    "plt.ylabel('Inertia')\n",
    "plt.show()"
   ]
  },
  {
   "cell_type": "code",
   "execution_count": null,
   "id": "138e7a92",
   "metadata": {},
   "outputs": [],
   "source": []
  },
  {
   "cell_type": "code",
   "execution_count": null,
   "id": "bfef5728",
   "metadata": {},
   "outputs": [],
   "source": []
  },
  {
   "cell_type": "code",
   "execution_count": null,
   "id": "47dd638b",
   "metadata": {},
   "outputs": [],
   "source": []
  }
 ],
 "metadata": {
  "kernelspec": {
   "display_name": "Python 3 (ipykernel)",
   "language": "python",
   "name": "python3"
  },
  "language_info": {
   "codemirror_mode": {
    "name": "ipython",
    "version": 3
   },
   "file_extension": ".py",
   "mimetype": "text/x-python",
   "name": "python",
   "nbconvert_exporter": "python",
   "pygments_lexer": "ipython3",
   "version": "3.9.12"
  }
 },
 "nbformat": 4,
 "nbformat_minor": 5
}
